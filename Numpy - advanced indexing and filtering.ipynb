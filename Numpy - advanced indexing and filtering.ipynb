{
 "cells": [
  {
   "cell_type": "markdown",
   "metadata": {},
   "source": [
    "# Numpy -  advanced indexing and filtering\n",
    "## Introduction\n",
    "Assigning values to large arrays using numpy advanced indexing is a breeze, especially with the [ix\\_](http://docs.scipy.org/doc/numpy/reference/generated/numpy.ix_.html) function. However, when filtering values, say you only want to replace non-NaN elements in the target array, there are many different approaches. One appealing choice is the MaskedArray class in  numpy. However, using masks is very slow - the time spent for an assignment quadruples. Presented below are some ways I tried while hunting for better performance, some more clever than others. \n",
    "## Environment\n",
    "While testing the different approaches, I used [Anaconda](https://www.continuum.io/) 4.0.0, with Python 3.5.2 and numpy 1.11.0. Numba version was 0.28.1 and seaborn was used for (prettier) plotting."
   ]
  },
  {
   "cell_type": "code",
   "execution_count": 24,
   "metadata": {
    "collapsed": false
   },
   "outputs": [],
   "source": [
    "import numpy as np\n",
    "import numba\n",
    "import timeit\n",
    "import seaborn\n",
    "%matplotlib inline\n",
    "seaborn.plt.rcParams['figure.figsize'] = (12, 6)"
   ]
  },
  {
   "cell_type": "markdown",
   "metadata": {},
   "source": [
    "## Starting point\n",
    "Say our large array has the dimensions 150x10000, and we want to assign 100x1000 values which are spread all over the array."
   ]
  },
  {
   "cell_type": "code",
   "execution_count": 25,
   "metadata": {
    "collapsed": false
   },
   "outputs": [
    {
     "name": "stdout",
     "output_type": "stream",
     "text": [
      "Elements which were replaced: 100000\n"
     ]
    }
   ],
   "source": [
    "# Array and replacement dimensions\n",
    "n_x = 150\n",
    "n_y = 10000\n",
    "repl_x = 100\n",
    "repl_y = 1000\n",
    "\n",
    "# Our large array of random numbers - uniform distribution between 0 and 1\n",
    "large_array = np.random.randn(n_x*n_y).astype(np.float32).reshape(n_x, n_y)\n",
    "\n",
    "# Our replacement indices and values\n",
    "ind_x = np.random.choice(np.arange(n_x), repl_x, replace=False)\n",
    "ind_y = np.random.choice(np.arange(n_y), repl_y, replace=False)\n",
    "repl = np.full([repl_x, repl_y], -255.0).astype(np.float32) #  Replacement values are all the same here for convenience\n",
    "idx_to = np.ix_(ind_x, ind_y)\n",
    "arraycc = large_array.copy()\n",
    "\n",
    "# Normal assignment without filtering - replaces 100000 values with -255\n",
    "arraycc[idx_to] = repl\n",
    "print(\"Elements which were replaced:\", np.sum(arraycc == -255.0))"
   ]
  },
  {
   "cell_type": "code",
   "execution_count": 26,
   "metadata": {
    "collapsed": false
   },
   "outputs": [
    {
     "name": "stdout",
     "output_type": "stream",
     "text": [
      "1.291 ms\n"
     ]
    }
   ],
   "source": [
    "# Average time for a replacement\n",
    "def assign():\n",
    "    idx_to = np.ix_(ind_x, ind_y)\n",
    "    arraycc[idx_to] = repl\n",
    "\n",
    "t_pure_fill = timeit.timeit(assign, number = 1000) / 1000 * 1000\n",
    "print(\"%.3f ms\" % t_pure_fill)    \n",
    "\n",
    "# Store times for later use\n",
    "t = []\n",
    "col = []\n",
    "t.append(t_pure_fill)\n",
    "col.append(\"Pure fill - no filter\")"
   ]
  },
  {
   "cell_type": "markdown",
   "metadata": {},
   "source": [
    "## The problem - filtering\n",
    "Say we only want to replace values which are larger than 0.8. Lets try a naïve approach:"
   ]
  },
  {
   "cell_type": "code",
   "execution_count": 27,
   "metadata": {
    "collapsed": false
   },
   "outputs": [
    {
     "name": "stdout",
     "output_type": "stream",
     "text": [
      "Number of elements to be replaced: 21167\n",
      "Elements which were replaced: 0\n"
     ]
    }
   ],
   "source": [
    "arraycc = large_array.copy()\n",
    "# Number of elements we want to replace\n",
    "print(\"Number of elements to be replaced:\", np.sum(arraycc[idx_to] > 0.8))\n",
    "arraycc[idx_to][arraycc[idx_to] > 0.8] = repl[arraycc[idx_to] > 0.8]\n",
    "# Number of elements replaced\n",
    "print(\"Elements which were replaced:\", np.sum(arraycc == -255.0))"
   ]
  },
  {
   "cell_type": "markdown",
   "metadata": {},
   "source": [
    "Nothing was replaced because [**advanced indexing always returns a copy**](http://docs.scipy.org/doc/numpy/reference/arrays.indexing.html). Above arraycc is indexed twice, i.e. the indexing [arraycc[idx_to] > 0.8] is performed on a copy of arraycc. **Note that advanced indexing can be used in assigments**, as setitem is called instead of getitem, which is why arraycc[idx] = repl works.\n",
    "This naïve approach is significantly slower than a normal fill as many copies are created by the advanced indexing. The naive approach can be modified to work as follows:"
   ]
  },
  {
   "cell_type": "code",
   "execution_count": 28,
   "metadata": {
    "collapsed": false
   },
   "outputs": [
    {
     "name": "stdout",
     "output_type": "stream",
     "text": [
      "Elements which were replaced: 21167\n",
      "8.149 ms\n"
     ]
    }
   ],
   "source": [
    "arraycc = large_array.copy()\n",
    "repl_arr = repl.copy()\n",
    "# Replace the undesired replacements with values from the target array\n",
    "repl_arr[arraycc[idx_to] <= 0.8] = arraycc[idx_to][arraycc[idx_to] <= 0.8]\n",
    "arraycc[idx_to] = repl_arr\n",
    "# Number of elements replaced\n",
    "print(\"Elements which were replaced:\", np.sum(arraycc == -255.0))\n",
    "\n",
    "# Average time for naive attempt\n",
    "def assign():\n",
    "    # Use large_array here for the final indexing so the function can be run many times\n",
    "    idx_to = np.ix_(ind_x, ind_y)\n",
    "    repl_arr[large_array[idx_to] <= 0.8] = arraycc[idx_to][large_array[idx_to] <= 0.8]\n",
    "    arraycc[idx_to] = repl_arr\n",
    "t_naive = timeit.timeit(assign, number = 100) / 100 * 1000\n",
    "print(\"%.3f ms\" % t_naive)\n",
    "t.append(t_naive)\n",
    "col.append(\"Naive fill - WORKS\")"
   ]
  },
  {
   "cell_type": "markdown",
   "metadata": {},
   "source": [
    "Lets try some other approaches."
   ]
  },
  {
   "cell_type": "code",
   "execution_count": 29,
   "metadata": {
    "collapsed": false
   },
   "outputs": [
    {
     "name": "stdout",
     "output_type": "stream",
     "text": [
      "Elements which were replaced: 21167\n",
      "5.067 ms\n"
     ]
    }
   ],
   "source": [
    "arraycc = large_array.copy()\n",
    "# Filter by addition modifying the replacements \n",
    "arraycc[arraycc > 0.8] = 0  # First we have to convert the values to zero - otherwise addition won't work\n",
    "arraycc[idx_to] += repl*(large_array[idx_to] > 0.8)\n",
    "print(\"Elements which were replaced:\", np.sum(arraycc == -255.0))\n",
    "# Average time \n",
    "def assign():\n",
    "    # Use large_array here for the final indexing so the function can be run many times\n",
    "    idx_to = np.ix_(ind_x, ind_y)\n",
    "    arraycc[idx_to] += repl*(large_array[idx_to] > 0.8)\n",
    "t_sum_mult = timeit.timeit(assign, number = 100) / 100 * 1000\n",
    "print(\"%.3f ms\" % t_sum_mult)\n",
    "t.append(t_sum_mult)\n",
    "col.append(\"Sum and multiplication - WORKS\")"
   ]
  },
  {
   "cell_type": "code",
   "execution_count": 30,
   "metadata": {
    "collapsed": false
   },
   "outputs": [
    {
     "name": "stdout",
     "output_type": "stream",
     "text": [
      "Elements which were replaced: 21167\n",
      "15.398 ms\n"
     ]
    }
   ],
   "source": [
    "arraycc = large_array.copy()\n",
    "# Filter by resizing the repl array to the same size as the large array\n",
    "arraycc[arraycc > 0.8] = 1  # We have to convert the replacable values to some specific value for addition to work\n",
    "filt = np.zeros_like(arraycc)\n",
    "filt[idx_to] = repl - 1\n",
    "filt[arraycc <= 0.8] = 0\n",
    "arraycc += filt\n",
    "print(\"Elements which were replaced:\", np.sum(arraycc == -255.0))\n",
    "# Average time \n",
    "def assign(arraycc):\n",
    "    # Use large_array here for the final indexing so the function can be run many times\n",
    "    filt = np.zeros_like(arraycc)\n",
    "    idx_to = np.ix_(ind_x, ind_y)\n",
    "    filt[idx_to] = repl\n",
    "    filt[large_array <= 0.8] = 0\n",
    "    arraycc += filt\n",
    "t_resize = timeit.timeit(lambda : assign(arraycc), number = 100) / 100 * 1000\n",
    "print(\"%.3f ms\" % t_resize)\n",
    "t.append(t_resize)\n",
    "col.append(\"Resize replacement - WORKS\")"
   ]
  },
  {
   "cell_type": "markdown",
   "metadata": {},
   "source": [
    "Manipulating arrays seems very slow. What about manipulating the indices.\n",
    "### Manipulating indices"
   ]
  },
  {
   "cell_type": "code",
   "execution_count": 31,
   "metadata": {
    "collapsed": false
   },
   "outputs": [
    {
     "name": "stdout",
     "output_type": "stream",
     "text": [
      "Elements which were replaced: 21167\n",
      "34.123 ms\n"
     ]
    }
   ],
   "source": [
    "arraycc = large_array.copy()\n",
    "\n",
    "# Flattened views of arrays\n",
    "rav_arraycc = arraycc.ravel()\n",
    "rav_large_array = large_array.ravel()\n",
    "rav_repl = repl.ravel()\n",
    "\n",
    "# Convert indices to indices of flattened array \n",
    "coords = (((np.array(ind_x)*arraycc.shape[1])[:, None]) + np.array(ind_y)).ravel()\n",
    "\n",
    "# Determine which indices are actually > 0.8\n",
    "source_coords = np.in1d(coords, np.argwhere(rav_large_array > 0.8), assume_unique=True)\n",
    "\n",
    "# Assing replacements\n",
    "rav_arraycc[coords[source_coords]] = rav_repl[source_coords]\n",
    "print(\"Elements which were replaced:\", np.sum(rav_arraycc == -255.0))\n",
    "\n",
    "# Average time \n",
    "def assign():\n",
    "    # Use large_array here for the indexing so the function can be run many times\n",
    "    coords = (((np.array(ind_x)*arraycc.shape[1])[:, None]) + np.array(ind_y)).ravel()\n",
    "    source_coords = np.in1d(coords, np.argwhere(rav_large_array > 0.8), assume_unique=True)\n",
    "    rav_arraycc[coords[source_coords]] = rav_repl[source_coords]\n",
    "\n",
    "t_flattened_in1d = timeit.timeit(assign, number = 30) / 30 * 1000\n",
    "print(\"%.3f ms\" % t_flattened_in1d)\n",
    "t.append(t_flattened_in1d)\n",
    "col.append(\"Flattened in1d - WORKS\")"
   ]
  },
  {
   "cell_type": "markdown",
   "metadata": {},
   "source": [
    "The in1d function is very slow (likely O(n)). The behavior of in1d as the searchable array grows:"
   ]
  },
  {
   "cell_type": "code",
   "execution_count": 32,
   "metadata": {
    "collapsed": false
   },
   "outputs": [
    {
     "data": {
      "image/png": "[encoded data removed]",
      "text/plain": [
       "<matplotlib.figure.Figure at 0x1f25a493b00>"
      ]
     },
     "metadata": {},
     "output_type": "display_data"
    }
   ],
   "source": [
    "x_y = []\n",
    "for n in [1000, 10000, 20000, 40000, 60000, 80000, 100000]:\n",
    "    target = np.arange(n)\n",
    "    source = np.random.choice(target, 100)\n",
    "    f = lambda : np.in1d(source, target)\n",
    "    x_y.append([n, (timeit.timeit(f, number=100) / 100 * 1000)])\n",
    "seaborn.plt.title(\"Performance of np.in1d as a function of searchable array size\", fontsize=15)\n",
    "seaborn.regplot(np.array(x_y).T[0], np.array(x_y).T[1], 'o')\n",
    "seaborn.plt.xlabel(\"Searchable array size\", fontsize=15)\n",
    "seaborn.plt.ylabel(\"Duration (ms)\", fontsize=15)\n",
    "seaborn.plt.show()"
   ]
  },
  {
   "cell_type": "markdown",
   "metadata": {},
   "source": [
    "Looks pretty linear. Let's try converting the valid coordinates to a set."
   ]
  },
  {
   "cell_type": "code",
   "execution_count": 33,
   "metadata": {
    "collapsed": false
   },
   "outputs": [
    {
     "name": "stdout",
     "output_type": "stream",
     "text": [
      "Elements which were replaced: 21167\n",
      "89.155 ms\n"
     ]
    }
   ],
   "source": [
    "arraycc = large_array.copy()\n",
    "\n",
    "# Flattened views of arrays\n",
    "rav_arraycc = arraycc.ravel()\n",
    "rav_large_array = large_array.ravel()\n",
    "rav_repl = repl.ravel()\n",
    "\n",
    "# Convert indices to indices of flattened array \n",
    "coords = (((np.array(ind_x)*arraycc.shape[1])[:, None]) + np.array(ind_y)).ravel()\n",
    "valid_coords = set(np.where(rav_large_array > 0.8)[0].tolist())\n",
    "\n",
    "# Determine which indices are actually > 0.8\n",
    "target_coords = np.array([i for i, coord in enumerate(coords) if coord in valid_coords])\n",
    "\n",
    "# Assing replacements\n",
    "rav_arraycc[coords[target_coords]] = rav_repl[target_coords]\n",
    "print(\"Elements which were replaced:\", np.sum(rav_arraycc == -255.0))\n",
    "\n",
    "# Average time \n",
    "def assign():\n",
    "    # Convert indices to indices of flattened array \n",
    "    coords = (((np.array(ind_x)*arraycc.shape[1])[:, None]) + np.array(ind_y)).ravel()\n",
    "    valid_coords = set(np.where(rav_large_array > 0.8)[0].tolist())\n",
    "    # Determine which indices are actually > 0.8\n",
    "    target_coords = np.array([i for i, coord in enumerate(coords) if coord in valid_coords])\n",
    "\n",
    "    # Assign replacements\n",
    "    rav_arraycc[coords[target_coords]] = rav_repl[target_coords]\n",
    "t_flattened_set = timeit.timeit(assign, number = 10) / 10 * 1000\n",
    "print(\"%.3f ms\" % t_flattened_set)\n",
    "t.append(t_flattened_set)\n",
    "col.append(\"Flattened set - WORKS\")"
   ]
  },
  {
   "cell_type": "markdown",
   "metadata": {},
   "source": [
    "Constructing a set this way is much slower. We're still looping needlessly over the array looking for values which are greater than 0.8. Only one loop over the array coming right up."
   ]
  },
  {
   "cell_type": "code",
   "execution_count": 34,
   "metadata": {
    "collapsed": false
   },
   "outputs": [
    {
     "name": "stdout",
     "output_type": "stream",
     "text": [
      "Elements which were replaced: 21167\n",
      "386.242 ms\n"
     ]
    }
   ],
   "source": [
    "arraycc = large_array.copy()\n",
    "\n",
    "# Flattened views of arrays\n",
    "rav_arraycc = arraycc.ravel()\n",
    "rav_large_array = large_array.ravel()\n",
    "rav_repl = repl.ravel()\n",
    "\n",
    "# Convert indices to indices of flattened array \n",
    "coords = (((np.array(ind_x)*arraycc.shape[1])[:, None]) + np.array(ind_y)).ravel()\n",
    "\n",
    "# Assign replacements while determining which coords are actually > 0.8\n",
    "for i in range(coords.size):\n",
    "    if rav_large_array[coords[i]] > 0.8:\n",
    "        rav_arraycc[coords[i]] = rav_repl[i]\n",
    "\n",
    "print(\"Elements which were replaced:\", np.sum(rav_arraycc == -255.0))\n",
    "        \n",
    "# Average time \n",
    "def assign():\n",
    "    # Use large_array here for the indexing so the function can be run many times\n",
    "    coords = (((np.array(ind_x)*arraycc.shape[1])[:, None]) + np.array(ind_y)).ravel()\n",
    "    for i in range(coords.size):\n",
    "        if rav_large_array[coords[i]] > 0.8:\n",
    "            rav_arraycc[coords[i]] = rav_repl[i]\n",
    "\n",
    "t_python_loop = timeit.timeit(assign, number = 4) / 4 * 1000\n",
    "print(\"%.3f ms\" % t_python_loop)\n",
    "t.append(t_python_loop)\n",
    "col.append(\"Python loop - WORKS\")"
   ]
  },
  {
   "cell_type": "markdown",
   "metadata": {},
   "source": [
    "Unsurprisingly, the python for-loop is extremely slow. What about using numpy [vectorize](http://docs.scipy.org/doc/numpy/reference/generated/numpy.vectorize.html)?"
   ]
  },
  {
   "cell_type": "code",
   "execution_count": 35,
   "metadata": {
    "collapsed": false
   },
   "outputs": [
    {
     "name": "stdout",
     "output_type": "stream",
     "text": [
      "Elements which were replaced: 21167\n",
      "381.510 ms\n"
     ]
    }
   ],
   "source": [
    "arraycc = large_array.copy()\n",
    "\n",
    "# Flattened views of arrays\n",
    "rav_arraycc = arraycc.ravel()\n",
    "rav_large_array = large_array.ravel()\n",
    "rav_repl = repl.ravel()\n",
    "\n",
    "# Convert indices to indices of flattened array \n",
    "coords = (((np.array(ind_x)*arraycc.shape[1])[:, None]) + np.array(ind_y)).ravel()\n",
    "coords_i = np.arange(len(coords))\n",
    "\n",
    "# Assign replacements while determining which coords are actually > 0.8\n",
    "def replace_if(c, c_i):\n",
    "    if rav_large_array[c] > 0.8:\n",
    "        rav_arraycc[c] = rav_repl[c_i]\n",
    "    \n",
    "ufunc_py_loop_coords = np.vectorize(replace_if)\n",
    "\n",
    "ufunc_py_loop_coords(coords, coords_i)            \n",
    "print(\"Elements which were replaced:\", np.sum(rav_arraycc == -255.0))\n",
    "\n",
    "# Average time \n",
    "def assign():\n",
    "    # Use large_array here for the indexing so the function can be run many times\n",
    "    coords = (((np.array(ind_x)*arraycc.shape[1])[:, None]) + np.array(ind_y)).ravel()\n",
    "    coords_i = np.arange(len(coords))\n",
    "    ufunc_py_loop_coords(coords, coords_i)\n",
    "\n",
    "t_ufunc_py_loop = timeit.timeit(assign, number = 5) / 5 * 1000\n",
    "print(\"%.3f ms\" % t_ufunc_py_loop)\n",
    "t.append(t_ufunc_py_loop)\n",
    "col.append(\"Ufunc python loop - WORKS\") "
   ]
  },
  {
   "cell_type": "markdown",
   "metadata": {},
   "source": [
    "Well, no help there, seems we don't want to access other arrays from our function. Perhaps a simple element-wise function over the entire replacement array."
   ]
  },
  {
   "cell_type": "code",
   "execution_count": 36,
   "metadata": {
    "collapsed": false
   },
   "outputs": [
    {
     "name": "stdout",
     "output_type": "stream",
     "text": [
      "Elements which were replaced: 21167\n",
      "34.634 ms\n"
     ]
    }
   ],
   "source": [
    "arraycc = large_array.copy()\n",
    "\n",
    "def replace_if(a, b):\n",
    "    if a > 0.8:\n",
    "        return b\n",
    "    else:\n",
    "        return a\n",
    "    \n",
    "vec_replace_if = np.vectorize(replace_if)\n",
    "\n",
    "arraycc[idx_to] = vec_replace_if(arraycc[idx_to], repl)\n",
    "print(\"Elements which were replaced:\", np.sum(arraycc == -255.0))\n",
    "        \n",
    "# Average time \n",
    "def assign():\n",
    "    # Use large_array here for the indexing so the function can be run many times\n",
    "    idx_to = np.ix_(ind_x, ind_y)\n",
    "    arraycc[idx_to] = vec_replace_if(large_array[idx_to], repl)\n",
    "\n",
    "t_vec_python = timeit.timeit(assign, number = 20) / 20 * 1000\n",
    "print(\"%.3f ms\" % t_vec_python)\n",
    "t.append(t_vec_python)\n",
    "col.append(\"Vectorized python - WORKS\")"
   ]
  },
  {
   "cell_type": "markdown",
   "metadata": {},
   "source": [
    "Faster, but still very slow. Let's try creating a [universal function](http://docs.scipy.org/doc/numpy/reference/generated/numpy.frompyfunc.html) directly, without vectorize."
   ]
  },
  {
   "cell_type": "code",
   "execution_count": 37,
   "metadata": {
    "collapsed": false
   },
   "outputs": [
    {
     "name": "stdout",
     "output_type": "stream",
     "text": [
      "Elements which were replaced: 21167\n",
      "30.568 ms\n"
     ]
    }
   ],
   "source": [
    "arraycc = large_array.copy()\n",
    "\n",
    "# Flattened views of arrays\n",
    "rav_arraycc = arraycc.ravel()\n",
    "rav_large_array = large_array.ravel()\n",
    "rav_repl = repl.ravel()\n",
    "\n",
    "# Convert indices to indices of flattened array \n",
    "coords = (((np.array(ind_x)*arraycc.shape[1])[:, None]) + np.array(ind_y)).ravel()\n",
    "\n",
    "# Assign replacements while determining which coords are actually > 0.8\n",
    "def replace_if(a, b):\n",
    "    if a > 0.8:\n",
    "        return b\n",
    "    else:\n",
    "        return a\n",
    "\n",
    "ufunc_py = np.frompyfunc(replace_if, 2, 1)\n",
    "arraycc[idx_to] = ufunc_py(arraycc[idx_to], repl)\n",
    "            \n",
    "print(\"Elements which were replaced:\", np.sum(rav_arraycc == -255.0))\n",
    "        \n",
    "# Average time \n",
    "def assign():\n",
    "    # Use large_array here for the indexing so the function can be run many times\n",
    "    idx_to = np.ix_(ind_x, ind_y)\n",
    "    arraycc[idx_to] = ufunc_py(large_array[idx_to], repl)\n",
    "\n",
    "t_ufunc_python = timeit.timeit(assign, number = 20) / 20 * 1000\n",
    "print(\"%.3f ms\" % t_ufunc_python)\n",
    "t.append(t_ufunc_python)\n",
    "col.append(\"Ufunc python - WORKS\")"
   ]
  },
  {
   "cell_type": "markdown",
   "metadata": {},
   "source": [
    "About the same as the vectorized version. Let's move on to using numpy masks.\n",
    "### MaskedArray"
   ]
  },
  {
   "cell_type": "code",
   "execution_count": 38,
   "metadata": {
    "collapsed": false
   },
   "outputs": [
    {
     "name": "stdout",
     "output_type": "stream",
     "text": [
      "Elements which were replaced: 21167\n",
      "4.769 ms\n"
     ]
    }
   ],
   "source": [
    "arraycc = large_array.copy()\n",
    "# Filter by using the MaskedArray class\n",
    "masked = np.ma.masked_array(arraycc, mask=arraycc <= 0.8, hard_mask=True)\n",
    "masked[idx_to] = repl\n",
    "print(\"Elements which were replaced:\", np.sum(arraycc == -255.0))\n",
    "# Average time \n",
    "def assign():\n",
    "    # Use large_array here for the final indexing so the function can be run many times\n",
    "    idx_to = np.ix_(ind_x, ind_y)\n",
    "    masked[idx_to] = repl\n",
    "    \n",
    "t_masked_array = timeit.timeit(assign, number = 100) / 100 * 1000\n",
    "print(\"%.3f ms\" % t_masked_array)\n",
    "t.append(t_masked_array)\n",
    "col.append(\"MaskedArray - WORKS\")"
   ]
  },
  {
   "cell_type": "markdown",
   "metadata": {},
   "source": [
    "Masking the whole input array provides the same performance as the sum and multiplication method above, however, there is no need to modify the original array with zeros. So the best choice so far is using a MaskedArray. What about masking the input array? It is much smaller."
   ]
  },
  {
   "cell_type": "code",
   "execution_count": 39,
   "metadata": {
    "collapsed": false
   },
   "outputs": [
    {
     "name": "stdout",
     "output_type": "stream",
     "text": [
      "Elements which were replaced: 100000\n",
      "2.922 ms\n"
     ]
    }
   ],
   "source": [
    "arraycc = large_array.copy()\n",
    "# Mask the non-valid elements in the replacement array\n",
    "masked = np.ma.masked_array(repl, mask=arraycc[idx_to] <= 0.8, hard_mask=True)\n",
    "arraycc[idx_to] = masked\n",
    "print(\"Elements which were replaced:\", np.sum(arraycc == -255.0))\n",
    "# Average time \n",
    "def assign():\n",
    "    # Use large_array here for the final indexing so the function can be run many times\n",
    "    idx_to = np.ix_(ind_x, ind_y)\n",
    "    masked = np.ma.masked_array(repl, mask=arraycc[idx_to] <= 0.8, hard_mask=True)\n",
    "    arraycc[idx_to] = masked\n",
    "\n",
    "t_repl_masked_array = timeit.timeit(assign, number = 100) / 100 * 1000\n",
    "print(\"%.3f ms\" % t_repl_masked_array)\n",
    "t.append(t_repl_masked_array)\n",
    "col.append(\"Replacement MaskedArray - FAILS\")"
   ]
  },
  {
   "cell_type": "markdown",
   "metadata": {},
   "source": [
    "Well, it's faster, but masking the source array has no effect - all values are replaced. One way of speeding up looping is using the numba package, which provides just-in-time compilation of python functions. The [numba pages](http://numba.pydata.org/numba-doc/0.12/tutorial_numpy_and_numba.html) promise similar (or better) performance as built-in  numpy functions. Compiled functions can also make use of numpy broadcasting which is a very attractive feature.\n",
    "### Numba approaches"
   ]
  },
  {
   "cell_type": "code",
   "execution_count": 40,
   "metadata": {
    "collapsed": false
   },
   "outputs": [
    {
     "name": "stdout",
     "output_type": "stream",
     "text": [
      "Elements which were replaced: 21167\n",
      "3.023 ms\n"
     ]
    }
   ],
   "source": [
    "arraycc = large_array.copy()\n",
    "# Lets try a simple function which only return replacement values when they are greater than 0.8\n",
    "@numba.vectorize('float32(float32, float32)', nopython=True)\n",
    "def replace_if(x, y):\n",
    "    if x > 0.8:\n",
    "        return y\n",
    "    else:\n",
    "        return x\n",
    "\n",
    "arraycc[idx_to] = replace_if(arraycc[idx_to], repl)\n",
    "print(\"Elements which were replaced:\", np.sum(arraycc == -255.0))\n",
    "# Average time \n",
    "def assign():\n",
    "    # Use large_array here for the final indexing so the function can be run many times\n",
    "    idx_to = np.ix_(ind_x, ind_y)\n",
    "    arraycc[idx_to] = replace_if(large_array[idx_to], repl)\n",
    "\n",
    "t_numba_copy = timeit.timeit(assign, number = 100) / 100 * 1000\n",
    "print(\"%.3f ms\" % t_numba_copy)\n",
    "t.append(t_numba_copy)\n",
    "col.append(\"Numba with adv idx - WORKS\")"
   ]
  },
  {
   "cell_type": "markdown",
   "metadata": {},
   "source": [
    "This is almost twice as fast as using a MaskedArray, but we're still making a copy of the target array by using advanced indexing. Let's see how long the advanced indexing and copying actually takes."
   ]
  },
  {
   "cell_type": "code",
   "execution_count": 41,
   "metadata": {
    "collapsed": false
   },
   "outputs": [
    {
     "name": "stdout",
     "output_type": "stream",
     "text": [
      "1.861 ms\n"
     ]
    }
   ],
   "source": [
    "# Average time \n",
    "def assign():\n",
    "    # Use large_array here for the final indexing so the function can be run many times\n",
    "    idx_to = np.ix_(ind_x, ind_y)\n",
    "    c = arraycc[idx_to]\n",
    "t_adv_idx = timeit.timeit(assign, number = 100) / 100 * 1000\n",
    "print(\"%.3f ms\" % t_adv_idx)\n",
    "t.append(t_adv_idx)\n",
    "col.append(\"Adv idx copy\")"
   ]
  },
  {
   "cell_type": "markdown",
   "metadata": {},
   "source": [
    "It seems like almost half the time of the first numba solution is spent copying the target array. Here's a numba version of the unbearably slow python loop without copying."
   ]
  },
  {
   "cell_type": "code",
   "execution_count": 42,
   "metadata": {
    "collapsed": false
   },
   "outputs": [
    {
     "name": "stdout",
     "output_type": "stream",
     "text": [
      "Elements which were replaced: 21167\n",
      "1.525 ms\n"
     ]
    }
   ],
   "source": [
    "arraycc = large_array.copy()\n",
    "\n",
    "# Flattened views of arrays\n",
    "rav_arraycc = arraycc.ravel()\n",
    "rav_large_array = large_array.ravel()\n",
    "rav_repl = repl.ravel()\n",
    "\n",
    "# Convert indices to indices of flattened array \n",
    "coords = (((np.array(ind_x)*arraycc.shape[1])[:, None]) + np.array(ind_y)).ravel()\n",
    "\n",
    "# Assign replacements while determining which coords are actually > 0.8\n",
    "@numba.jit('void(int32[:], float32[:], float32[:])', nopython=True)\n",
    "def replace_if(c, x, y):\n",
    "    for i in range(c.size):\n",
    "        if x[c[i]] > 0.8:\n",
    "            x[c[i]] = y[i]\n",
    "\n",
    "replace_if(coords, rav_arraycc, rav_repl)\n",
    "print(\"Elements which were replaced:\", np.sum(rav_arraycc == -255.0))\n",
    "\n",
    "# Average time \n",
    "# Include large_array here for the indexing so the function can be run many times\n",
    "@numba.jit('void(int32[:], float32[:], float32[:], float32[:])')\n",
    "def replace_if(c, x, y, z):\n",
    "    for i in range(c.size):\n",
    "        if z[c[i]] > 0.8:\n",
    "            x[c[i]] = y[i]\n",
    "\n",
    "def assign():\n",
    "    coords = (((np.array(ind_x)*arraycc.shape[1])[:, None]) + np.array(ind_y)).ravel()\n",
    "    replace_if(coords, rav_arraycc, rav_repl, rav_large_array)\n",
    "\n",
    "t_python_loop_numba = timeit.timeit(assign, number = 100) / 100 * 1000\n",
    "print(\"%.3f ms\" % t_python_loop_numba)\n",
    "t.append(t_python_loop_numba)\n",
    "col.append(\"Numba python loop - WORKS\")"
   ]
  },
  {
   "cell_type": "markdown",
   "metadata": {},
   "source": [
    "Well, this is much more reasonable! The replacement now only takes slightly longer than the pure replacement of all values.\n",
    "\n",
    "## Conclusion\n",
    "It seems numba is the way to go when you want to use your own custom functions with numpy. Apparently numpy provides a [C-API](http://docs.scipy.org/doc/numpy/reference/c-api.html) for compiling ones own [universal functions](http://docs.scipy.org/doc/numpy/reference/ufuncs.html), but the convenience of numba is unbeatable.\n",
    "\n",
    "As a summary, a plot of all the different approaches and their performance."
   ]
  },
  {
   "cell_type": "code",
   "execution_count": 43,
   "metadata": {
    "collapsed": false
   },
   "outputs": [
    {
     "data": {
      "image/png": "[encoded data removed]",
      "text/plain": [
       "<matplotlib.figure.Figure at 0x1f25db4a9e8>"
      ]
     },
     "metadata": {},
     "output_type": "display_data"
    },
    {
     "data": {
      "image/png": "[encoded data removed]",
      "text/plain": [
       "<matplotlib.figure.Figure at 0x1f25a4c07b8>"
      ]
     },
     "metadata": {},
     "output_type": "display_data"
    }
   ],
   "source": [
    "fig = seaborn.barplot(col, t, order=np.array(col)[np.argsort(t)])\n",
    "seaborn.plt.xticks(rotation='vertical', fontsize=15)\n",
    "seaborn.plt.ylabel(\"Duration (ms)\", fontsize=15)\n",
    "fig.axes.set_yscale('log')\n",
    "seaborn.plt.show()\n",
    "\n",
    "fig = seaborn.barplot(np.array(col)[np.argsort(t)][0:8], np.array(t)[np.argsort(t)][0:8])\n",
    "seaborn.plt.xticks(rotation='vertical', fontsize=15)\n",
    "seaborn.plt.ylabel(\"Duration (ms)\", fontsize=15)\n",
    "seaborn.plt.show()"
   ]
  }
 ],
 "metadata": {
  "kernelspec": {
   "display_name": "Python 3",
   "language": "python",
   "name": "python3"
  },
  "language_info": {
   "codemirror_mode": {
    "name": "ipython",
    "version": 3
   },
   "file_extension": ".py",
   "mimetype": "text/x-python",
   "name": "python",
   "nbconvert_exporter": "python",
   "pygments_lexer": "ipython3",
   "version": "3.5.2"
  }
 },
 "nbformat": 4,
 "nbformat_minor": 0
}
